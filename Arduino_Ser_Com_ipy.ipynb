{
 "metadata": {
  "name": "",
  "signature": "sha256:daf0fbcf91819a28afaa6e76c58f6395a851751cd5310a352e7b1b6d5d6232da"
 },
 "nbformat": 3,
 "nbformat_minor": 0,
 "worksheets": [
  {
   "cells": [
    {
     "cell_type": "heading",
     "level": 1,
     "metadata": {},
     "source": [
      "Read Serial Data from the Arduino"
     ]
    },
    {
     "cell_type": "heading",
     "level": 3,
     "metadata": {},
     "source": [
      "Import Libraries:"
     ]
    },
    {
     "cell_type": "code",
     "collapsed": false,
     "input": [
      "%pylab inline\n",
      "import time\n",
      "import serial\n",
      "import serial.tools.list_ports as porttest\n",
      "import numpy as np\n",
      "import matplotlib"
     ],
     "language": "python",
     "metadata": {},
     "outputs": [
      {
       "output_type": "stream",
       "stream": "stdout",
       "text": [
        "Populating the interactive namespace from numpy and matplotlib\n"
       ]
      }
     ],
     "prompt_number": 1
    },
    {
     "cell_type": "code",
     "collapsed": false,
     "input": [
      "def wave_plot(t,smp_vec,g_title): #plots a wave\n",
      "    plot(t[0:50], smp_vec[0:50], 'b-')\n",
      "    title(g_title)\n",
      "    xlabel(\"TIME (sec)\")\n",
      "    ylabel(\"Amplitude\")\n",
      "    show()\n",
      "\n",
      "def fast_fft(vec, S_time): #Performs FFT\n",
      "    f = np.fft.fft(vec)\n",
      "    t = linspace(0,S_time,lim + 1)\n",
      "    N = len(t)                            #Number of Samples\n",
      "    dt = S_time/N                         #Inter-sample length\n",
      "    w = np.fft.fftfreq(N, dt)             # List of freqeuencies for the FFT\n",
      "    ipos = where(w>0)\n",
      "    freqs = w[ipos]                       # only look at positive frequencies\n",
      "    mags = abs(f[ipos])                   # magnitude spectrum\n",
      "    return f, w, ipos, freqs, mags\n",
      "\n",
      "def fft_graph(freqs,mags,g_title):\n",
      "    plot(freqs, mags, 'b-')\n",
      "    xlim([0, 62])          # replot but zoom in on freqs 0-xx Hz\n",
      "    title(g_title)\n",
      "    ylim(0,10000)\n",
      "    ylabel(\"POWER\")\n",
      "    xlabel(\"FREQUENCY (Hz)\")\n",
      "    #savefig('foo.pdf')\n",
      "    show()\n",
      "\n",
      "def DSP(remove_freq, signal, ipos):   #Filters signal\n",
      "    for i in range(len(remove_freq)):\n",
      "        signal[remove_freq[i]] = 0\n",
      "        x = len(signal) - remove_freq[i]\n",
      "        signal[x] = 0\n",
      "    clean_sig = ifft(signal)          # reconstruct\n",
      "    clean_fft = abs(signal[ipos])  # magnitude component\n",
      "    return clean_fft, clean_sig\n",
      "\n",
      "def sorty(F, t_hold):\n",
      "    top_bin = where(F > t_hold)[0] + 1\n",
      "    sorties = np.argsort(F)\n",
      "    sorties = sorties[::-1]\n",
      "    for i in range(len(sorties)):\n",
      "        sorties[i] = sorties[i] + 1\n",
      "    #print 'High Frequencies',top_bin\n",
      "    #print sorties\n",
      "    return sorties, top_bin\n",
      "\n",
      "def readVec(ser):\n",
      "    vec=[]\n",
      "    cnt=0\n",
      "    lim = 200\n",
      "    # Empty the port buffer\n",
      "    ser.flushInput()\n",
      "    # Read 'lim' number of samples\n",
      "    while cnt <= lim:      #ser.read() is not None and cnt <= 100:\n",
      "        # Wait until header 'H'\n",
      "        if ser.read() is 'H':\n",
      "            # Read n bytes for 'ser.read(n)'\n",
      "            data = ser.read(2)\n",
      "            # Add the data to the vector and decode fron hex to integer\n",
      "            vec.append(int(data.encode('hex'), 16) & 0x3ff)\n",
      "            # increment the counter\n",
      "            cnt += 1\n",
      "    return vec\n",
      " \n",
      "     "
     ],
     "language": "python",
     "metadata": {},
     "outputs": [],
     "prompt_number": 2
    },
    {
     "cell_type": "heading",
     "level": 3,
     "metadata": {},
     "source": [
      "Connect to The Arduino Port:"
     ]
    },
    {
     "cell_type": "code",
     "collapsed": false,
     "input": [
      "ports = list(porttest.comports())\n",
      "# Determine which port is the Arduino\n",
      "for p in ports:\n",
      "    if p[1][0:7] == 'Arduino':\n",
      "        port = int(p[0].split('M')[1]) -1\n",
      "\n",
      "# Connect to the Arduino port\n",
      "ser = serial.Serial(port,baudrate=115200)\n",
      "portSettings = ser.getSettingsDict()"
     ],
     "language": "python",
     "metadata": {},
     "outputs": [],
     "prompt_number": 3
    },
    {
     "cell_type": "raw",
     "metadata": {},
     "source": [
      "Note that the sample size is 2 byte.\n",
      "The sample format is:\n",
      "upper 4-bits: ADC port number\n",
      "lower 10-bits: ADC sample\n",
      "Bits 10 and 11: unused\n",
      "\n",
      "FORMAT:\n",
      "[b15,b14,b,b13,b12][ b11,b10  ][b9,b8,b7,b6,b5,b4,b3,b2,b1,b0]\n",
      "[       port      ][ not used ][       ADC read value        ]"
     ]
    },
    {
     "cell_type": "code",
     "collapsed": false,
     "input": [
      "# parse out the signal data\n",
      "for i in range(len(vec)):\n",
      "    vec[i] = vec[i] & 0x03ff"
     ],
     "language": "python",
     "metadata": {},
     "outputs": [],
     "prompt_number": 9
    },
    {
     "cell_type": "heading",
     "level": 3,
     "metadata": {},
     "source": [
      "FFT:"
     ]
    },
    {
     "cell_type": "code",
     "collapsed": false,
     "input": [
      "import time\n",
      "\n",
      "# function to read a 128 sample payload\n",
      "def read128():\n",
      "    vec = []\n",
      "    cnt = 0\n",
      "    ser.flushInput()\n",
      "    ser.write('S')#request payload\n",
      "    if ser.read()=='H':\n",
      "        while cnt<128:\n",
      "            data = ser.read(2)\n",
      "            vec.append(int(data.encode('hex'), 16))\n",
      "            cnt += 1\n",
      "    vec = np.array(vec) - np.mean(vec)\n",
      "    return vec"
     ],
     "language": "python",
     "metadata": {},
     "outputs": [],
     "prompt_number": 51
    },
    {
     "cell_type": "code",
     "collapsed": false,
     "input": [
      "# Baseline\n",
      "\n",
      "s_time = 8.3\n",
      "base = []\n",
      "for i in range(5):\n",
      "    read = read128()\n",
      "    limit = len(fft)/2\n",
      "    read = np.abs(np.fft.fft(read))[0:limit]\n",
      "    base.append(read)\n",
      "    time.sleep(0.5)\n"
     ],
     "language": "python",
     "metadata": {},
     "outputs": [],
     "prompt_number": 59
    },
    {
     "cell_type": "code",
     "collapsed": false,
     "input": [
      "# Light\n",
      "\n",
      "s_time = 8.3\n",
      "light = []\n",
      "for i in range(5):\n",
      "    read = read128()\n",
      "    limit = len(fft)/2\n",
      "    read = np.abs(np.fft.fft(read))[0:limit]\n",
      "    light.append(read)\n",
      "    time.sleep(0.5)\n"
     ],
     "language": "python",
     "metadata": {},
     "outputs": [],
     "prompt_number": 60
    },
    {
     "cell_type": "code",
     "collapsed": false,
     "input": [
      "for b in base:\n",
      "    plot(range(len(b)),b)\n",
      "show()\n",
      "\n",
      "for l in light:\n",
      "    plot(range(len(l)),l)"
     ],
     "language": "python",
     "metadata": {},
     "outputs": [
      {
       "metadata": {},
       "output_type": "display_data",
       "png": "[encoded data removed]",
       "text": [
        "<matplotlib.figure.Figure at 0x8ea4550>"
       ]
      },
      {
       "metadata": {},
       "output_type": "display_data",
       "png": "[encoded data removed]",
       "text": [
        "<matplotlib.figure.Figure at 0x879e5f0>"
       ]
      }
     ],
     "prompt_number": 61
    },
    {
     "cell_type": "code",
     "collapsed": false,
     "input": [
      "light_vec = np.mean(light,axis=0)\n",
      "light_vec = light_vec / np.max(light_vec)\n",
      "base_vec = np.mean(base,axis=0)\n",
      "base_vec = base_vec / np.max(base_vec)"
     ],
     "language": "python",
     "metadata": {},
     "outputs": [],
     "prompt_number": 62
    },
    {
     "cell_type": "code",
     "collapsed": false,
     "input": [
      "while True:\n",
      "    read = read128()\n",
      "    limit = len(fft)/2\n",
      "    vec = np.abs(np.fft.fft(read))[0:limit]\n",
      "    vec = vec / np.max(vec)\n",
      "    light_cmd = np.abs(np.sum(vec - light_vec))\n",
      "    base_cmd = np.abs(np.sum(vec - base_vec))\n",
      "    if light_cmd <= base_cmd:\n",
      "        ser.write('X')\n",
      "    else:\n",
      "        ser.write('O')\n",
      "    time.sleep(0.2)"
     ],
     "language": "python",
     "metadata": {},
     "outputs": [
      {
       "ename": "KeyboardInterrupt",
       "evalue": "",
       "output_type": "pyerr",
       "traceback": [
        "\u001b[1;31m---------------------------------------------------------------------------\u001b[0m\n\u001b[1;31mKeyboardInterrupt\u001b[0m                         Traceback (most recent call last)",
        "\u001b[1;32m<ipython-input-63-833577c26624>\u001b[0m in \u001b[0;36m<module>\u001b[1;34m()\u001b[0m\n\u001b[0;32m     10\u001b[0m     \u001b[1;32melse\u001b[0m\u001b[1;33m:\u001b[0m\u001b[1;33m\u001b[0m\u001b[0m\n\u001b[0;32m     11\u001b[0m         \u001b[0mser\u001b[0m\u001b[1;33m.\u001b[0m\u001b[0mwrite\u001b[0m\u001b[1;33m(\u001b[0m\u001b[1;34m'O'\u001b[0m\u001b[1;33m)\u001b[0m\u001b[1;33m\u001b[0m\u001b[0m\n\u001b[1;32m---> 12\u001b[1;33m     \u001b[0mtime\u001b[0m\u001b[1;33m.\u001b[0m\u001b[0msleep\u001b[0m\u001b[1;33m(\u001b[0m\u001b[1;36m0.2\u001b[0m\u001b[1;33m)\u001b[0m\u001b[1;33m\u001b[0m\u001b[0m\n\u001b[0m",
        "\u001b[1;31mKeyboardInterrupt\u001b[0m: "
       ]
      }
     ],
     "prompt_number": 63
    },
    {
     "cell_type": "heading",
     "level": 3,
     "metadata": {},
     "source": [
      "Close the Port:"
     ]
    },
    {
     "cell_type": "code",
     "collapsed": false,
     "input": [
      "##################\n",
      "# CLOSE THE PORT #\n",
      "##################\n",
      "ser.close()"
     ],
     "language": "python",
     "metadata": {},
     "outputs": [],
     "prompt_number": 64
    },
    {
     "cell_type": "code",
     "collapsed": false,
     "input": [],
     "language": "python",
     "metadata": {},
     "outputs": []
    }
   ],
   "metadata": {}
  }
 ]
}