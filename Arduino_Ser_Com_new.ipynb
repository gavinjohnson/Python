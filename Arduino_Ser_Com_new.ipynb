{
 "metadata": {
  "name": "",
  "signature": "sha256:39221329f44bd67ece87cc61ca5bd152e0a9be3f89e5aa54c8260102bc55b029"
 },
 "nbformat": 3,
 "nbformat_minor": 0,
 "worksheets": [
  {
   "cells": [
    {
     "cell_type": "heading",
     "level": 1,
     "metadata": {},
     "source": [
      "Read Serial Data from the Arduino"
     ]
    },
    {
     "cell_type": "heading",
     "level": 3,
     "metadata": {},
     "source": [
      "Import Libraries:"
     ]
    },
    {
     "cell_type": "code",
     "collapsed": false,
     "input": [
      "%pylab inline\n",
      "import time\n",
      "import serial\n",
      "import serial.tools.list_ports as porttest\n",
      "import numpy as np\n",
      "import matplotlib"
     ],
     "language": "python",
     "metadata": {},
     "outputs": [
      {
       "output_type": "stream",
       "stream": "stdout",
       "text": [
        "Populating the interactive namespace from numpy and matplotlib\n"
       ]
      }
     ],
     "prompt_number": 1
    },
    {
     "cell_type": "code",
     "collapsed": false,
     "input": [
      "def wave_plot(t,smp_vec,g_title): #plots a wave\n",
      "    plot(t[0:50], smp_vec[0:50], 'b-')\n",
      "    title(g_title)\n",
      "    xlabel(\"TIME (sec)\")\n",
      "    ylabel(\"Amplitude\")\n",
      "    show()\n",
      "\n",
      "def fast_fft(vec, S_time): #Performs FFT\n",
      "    f = np.fft.fft(vec)\n",
      "    t = linspace(0,S_time,lim + 1)\n",
      "    N = len(t)                            #Number of Samples\n",
      "    dt = S_time/N                         #Inter-sample length\n",
      "    w = np.fft.fftfreq(N, dt)             # List of freqeuencies for the FFT\n",
      "    ipos = where(w>0)\n",
      "    freqs = w[ipos]                       # only look at positive frequencies\n",
      "    mags = abs(f[ipos])                   # magnitude spectrum\n",
      "    return f, w, ipos, freqs, mags\n",
      "\n",
      "def fft_graph(freqs,mags,g_title):\n",
      "    plot(freqs, mags, 'b-')\n",
      "    xlim([0, 62])          # replot but zoom in on freqs 0-xx Hz\n",
      "    title(g_title)\n",
      "    ylim(0,10000)\n",
      "    ylabel(\"POWER\")\n",
      "    xlabel(\"FREQUENCY (Hz)\")\n",
      "    #savefig('foo.pdf')\n",
      "    show()\n",
      "\n",
      "def DSP(remove_freq, signal, ipos):   #Filters signal\n",
      "    for i in range(len(remove_freq)):\n",
      "        signal[remove_freq[i]] = 0\n",
      "        x = len(signal) - remove_freq[i]\n",
      "        signal[x] = 0\n",
      "    clean_sig = ifft(signal)          # reconstruct\n",
      "    clean_fft = abs(signal[ipos])  # magnitude component\n",
      "    return clean_fft, clean_sig\n",
      "\n",
      "def sorty(F, t_hold):\n",
      "    top_bin = where(F > t_hold)[0] + 1\n",
      "    sorties = np.argsort(F)\n",
      "    sorties = sorties[::-1]\n",
      "    for i in range(len(sorties)):\n",
      "        sorties[i] = sorties[i] + 1\n",
      "    #print 'High Frequencies',top_bin\n",
      "    #print sorties\n",
      "    return sorties, top_bin\n",
      "\n",
      "def readVec(ser):\n",
      "    vec=[]\n",
      "    cnt=0\n",
      "    lim = 200\n",
      "    # Empty the port buffer\n",
      "    ser.flushInput()\n",
      "    # Read 'lim' number of samples\n",
      "    while cnt <= lim:      #ser.read() is not None and cnt <= 100:\n",
      "        # Wait until header 'H'\n",
      "        if ser.read() is 'H':\n",
      "            # Read n bytes for 'ser.read(n)'\n",
      "            data = ser.read(2)\n",
      "            # Add the data to the vector and decode fron hex to integer\n",
      "            vec.append(int(data.encode('hex'), 16) & 0x3ff)\n",
      "            # increment the counter\n",
      "            cnt += 1\n",
      "    return vec\n",
      " \n",
      "     "
     ],
     "language": "python",
     "metadata": {},
     "outputs": [],
     "prompt_number": 2
    },
    {
     "cell_type": "heading",
     "level": 3,
     "metadata": {},
     "source": [
      "Connect to The Arduino Port:"
     ]
    },
    {
     "cell_type": "code",
     "collapsed": false,
     "input": [
      "ports = list(porttest.comports())\n",
      "# Determine which port is the Arduino\n",
      "for p in ports:\n",
      "    if p[1][0:7] == 'Arduino':\n",
      "        port = int(p[0].split('M')[1]) -1\n",
      "\n",
      "# Connect to the Arduino port\n",
      "ser = serial.Serial(port,baudrate=115200)\n",
      "portSettings = ser.getSettingsDict()"
     ],
     "language": "python",
     "metadata": {},
     "outputs": [],
     "prompt_number": 3
    },
    {
     "cell_type": "heading",
     "level": 3,
     "metadata": {},
     "source": [
      "Call for a 128 sample payload and read it"
     ]
    },
    {
     "cell_type": "code",
     "collapsed": false,
     "input": [
      "vec = []\n",
      "cnt = 0\n",
      "ser.flushInput()\n",
      "ser.write('S')#request payload\n",
      "if ser.read()=='H':\n",
      "    while cnt<128:\n",
      "        data = ser.read(2)\n",
      "        vec.append(int(data.encode('hex'), 16))\n",
      "        cnt += 1\n",
      "\n",
      "        \n",
      "vec = np.array(vec) - np.mean(vec)"
     ],
     "language": "python",
     "metadata": {},
     "outputs": [],
     "prompt_number": 18
    },
    {
     "cell_type": "code",
     "collapsed": false,
     "input": [
      "lim = 128\n",
      "plot(range(len(vec)),vec)\n",
      "show()\n",
      "\n",
      "scatter(range(len(vec))[0:20],vec[0:20])\n",
      "show()\n",
      "\n",
      "#print np.mean(v)\n",
      "f, w, ipos, freqs, mags = fast_fft(vec,8.3)\n",
      "plot(freqs,mags)"
     ],
     "language": "python",
     "metadata": {},
     "outputs": [
      {
       "metadata": {},
       "output_type": "display_data",
       "png": "[encoded data removed]",
       "text": [
        "<matplotlib.figure.Figure at 0x8641750>"
       ]
      },
      {
       "metadata": {},
       "output_type": "display_data",
       "png": "[encoded data removed]",
       "text": [
        "<matplotlib.figure.Figure at 0x8779e90>"
       ]
      },
      {
       "metadata": {},
       "output_type": "pyout",
       "prompt_number": 22,
       "text": [
        "[<matplotlib.lines.Line2D at 0x8e0b4f0>]"
       ]
      },
      {
       "metadata": {},
       "output_type": "display_data",
       "png": "[encoded data removed]",
       "text": [
        "<matplotlib.figure.Figure at 0x8652250>"
       ]
      }
     ],
     "prompt_number": 22
    },
    {
     "cell_type": "code",
     "collapsed": false,
     "input": [
      "ser.write('O')"
     ],
     "language": "python",
     "metadata": {},
     "outputs": [
      {
       "metadata": {},
       "output_type": "pyout",
       "prompt_number": 7,
       "text": [
        "1L"
       ]
      }
     ],
     "prompt_number": 7
    },
    {
     "cell_type": "code",
     "collapsed": false,
     "input": [
      "ser.close()\n"
     ],
     "language": "python",
     "metadata": {},
     "outputs": [],
     "prompt_number": 8
    },
    {
     "cell_type": "code",
     "collapsed": false,
     "input": [],
     "language": "python",
     "metadata": {},
     "outputs": []
    },
    {
     "cell_type": "heading",
     "level": 3,
     "metadata": {},
     "source": [
      "Read in 1000 Samples:"
     ]
    },
    {
     "cell_type": "code",
     "collapsed": false,
     "input": [
      "base_vec=[]\n",
      "cnt=0\n",
      "lim = 1000\n",
      "# Empty the port buffer\n",
      "ser.flushInput()\n",
      "# Read 'lim' number of samples\n",
      "raw_input('This is a base line ')\n",
      "while cnt <= lim:      #ser.read() is not None and cnt <= 100:\n",
      "    # Wait until header 'H'\n",
      "    if ser.read() is 'H':\n",
      "        # Read n bytes for 'ser.read(n)'\n",
      "        data = ser.read(2)\n",
      "        # Add the data to the vector and decode fron hex to integer\n",
      "        base_vec.append(int(data.encode('hex'), 16))\n",
      "        # increment the counter\n",
      "        cnt += 1\n",
      "# parse out the signal data\n",
      "for i in range(len(base_vec)):\n",
      "    base_vec[i] = base_vec[i] & 0x03ff\n"
     ],
     "language": "python",
     "metadata": {},
     "outputs": [
      {
       "name": "stdout",
       "output_type": "stream",
       "stream": "stdout",
       "text": [
        "This is a base line \n"
       ]
      }
     ],
     "prompt_number": 16
    },
    {
     "cell_type": "code",
     "collapsed": false,
     "input": [
      "light_vec = []\n",
      "cnt=0\n",
      "lim = 1000\n",
      "ser.flushInput()\n",
      "raw_input('This is a light vec ')\n",
      "while cnt <= lim:      #ser.read() is not None and cnt <= 100:\n",
      "    # Wait until header 'H'\n",
      "    if ser.read() is 'H':\n",
      "        # Read n bytes for 'ser.read(n)'\n",
      "        data = ser.read(2)\n",
      "        # Add the data to the vector and decode fron hex to integer\n",
      "        light_vec.append(int(data.encode('hex'), 16))\n",
      "        # increment the counter\n",
      "        cnt += 1\n",
      "# parse out the signal data\n",
      "for i in range(len(light_vec)):\n",
      "    light_vec[i] = light_vec[i] & 0x03ff"
     ],
     "language": "python",
     "metadata": {},
     "outputs": [
      {
       "name": "stdout",
       "output_type": "stream",
       "stream": "stdout",
       "text": [
        "This is a light vec \n"
       ]
      }
     ],
     "prompt_number": 18
    },
    {
     "cell_type": "code",
     "collapsed": false,
     "input": [
      "S_time = 1.\n",
      "t = linspace(0,S_time,lim + 1)  \n",
      "newbase_vec = np.array(base_vec) - int(np.mean(base_vec))               #Remove the DC Bias component of the vector\n",
      "wave_plot(t,newbase_vec,'base wave')                                   #plots wave\n",
      "Fb, wb, iposb, freqsb, magsb = fast_fft(newbase_vec, S_time)    #perform fft(send the wave, send the snaple time)\n",
      "fft_graph(freqsb, magsb,'base wave')                                 #graphs fft\n",
      "#remove_freqsb = np.array([60])                                   #list of frequencies to get rid of\n",
      "#clean_fftb, clean_sigb = DSP(remove_freqsb, Fb, iposb)      #performs signal processing, returns signal and fft minus unwanted freaks\n",
      "#wave_plot(t,clean_sigb)                                 \n",
      "#fft_graph(freqsb,clean_fftb)\n",
      "#F_sortedb, top_binb = sorty(clean_fftb, 1000)              #sorts fft, returns fft ordered from highest to lowest bin, return bins above threshold\n",
      "\n",
      "newlight_vec = np.array(light_vec) - int(mean(light_vec))               #Remove the DC Bias component of the vector\n",
      "wave_plot(t,newlight_vec,'light wave')                                   #plots wave\n",
      "Fl, wl, iposl, freqsl, magsl = fast_fft(newlight_vec, S_time)    #perform fft(send the wave, send the snaple time)\n",
      "fft_graph(freqsl, magsl,'light wave')                                 #graphs fft\n",
      "#remove_freqsl = np.array([60])                                   #list of frequencies to get rid of\n",
      "#clean_fftl, clean_sigl = DSP(remove_freqsl, Fl, iposl)      #performs signal processing, returns signal and fft minus unwanted freaks\n",
      "#wave_plot(t,clean_sigl)                                 \n",
      "#fft_graph(freqsl,clean_fftl)\n",
      "#F_sortedl, top_binl = sorty(clean_fftl, 1000)              #sorts fft, returns fft ordered from highest to lowest bin, return bins above threshold\n",
      "\n"
     ],
     "language": "python",
     "metadata": {},
     "outputs": [
      {
       "metadata": {},
       "output_type": "display_data",
       "png": "[encoded data removed]",
       "text": [
        "<matplotlib.figure.Figure at 0x53b3e90>"
       ]
      },
      {
       "metadata": {},
       "output_type": "display_data",
       "png": "[encoded data removed]",
       "text": [
        "<matplotlib.figure.Figure at 0x8438cd0>"
       ]
      },
      {
       "metadata": {},
       "output_type": "display_data",
       "png": "[encoded data removed]",
       "text": [
        "<matplotlib.figure.Figure at 0x54e2ad0>"
       ]
      },
      {
       "metadata": {},
       "output_type": "display_data",
       "png": "[encoded data removed]",
       "text": [
        "<matplotlib.figure.Figure at 0x54b8e10>"
       ]
      }
     ],
     "prompt_number": 19
    },
    {
     "cell_type": "code",
     "collapsed": false,
     "input": [
      "\n",
      "base_cmd = np.abs(Fb)\n",
      "light_cmd = np.abs(Fl)\n",
      "cnt_vec = []"
     ],
     "language": "python",
     "metadata": {},
     "outputs": [],
     "prompt_number": 20
    },
    {
     "cell_type": "code",
     "collapsed": false,
     "input": [
      "#base_cmd = np.mean(np.abs(base_vec),axis=0)\n",
      "#light_cmd = np.mean(np.abs(light_vec),axis=0)\n",
      "run = True\n",
      "#comm = serial.Serial(port,baudrate=115200)\n",
      "while run:\n",
      "    cnt_vec = []\n",
      "    cnt=0\n",
      "    lim = 1000\n",
      "    ser.flushInput()\n",
      "    while cnt <= lim:      #ser.read() is not None and cnt <= 100:\n",
      "    # Wait until header 'H'\n",
      "        if ser.read() is 'H':\n",
      "            # Read n bytes for 'ser.read(n)'\n",
      "            data = ser.read(2)\n",
      "            # Add the data to the vector and decode fron hex to integer\n",
      "            cnt_vec.append(int(data.encode('hex'), 16))\n",
      "            # increment the counter\n",
      "            cnt += 1\n",
      "        # parse out the signal data\n",
      "    for i in range(len(cnt_vec)):\n",
      "        cnt_vec[i] = cnt_vec[i] & 0x03ff\n",
      "        \n",
      "    newcnt_vec = np.array(cnt_vec) - int(np.mean(cnt_vec))              #Remove the DC Bias component of the vector   \n",
      "    newf = np.fft.fft(newcnt_vec)\n",
      "    newf = np.abs(newf)\n",
      "    b_com = np.sum(abs(base_cmd - np.abs(newf)))\n",
      "    l_com = np.sum(abs(light_cmd - np.abs(newf)))\n",
      "    if l_com < b_com:\n",
      "        ser.write('X')\n",
      "        light = 1\n",
      "        print light\n",
      "    else:\n",
      "        ser.write('O')\n",
      "        light = 0\n",
      "        print light"
     ],
     "language": "python",
     "metadata": {},
     "outputs": [
      {
       "output_type": "stream",
       "stream": "stdout",
       "text": [
        "1\n",
        "1"
       ]
      },
      {
       "output_type": "stream",
       "stream": "stdout",
       "text": [
        "\n",
        "1"
       ]
      },
      {
       "output_type": "stream",
       "stream": "stdout",
       "text": [
        "\n",
        "1"
       ]
      },
      {
       "output_type": "stream",
       "stream": "stdout",
       "text": [
        "\n",
        "0"
       ]
      },
      {
       "output_type": "stream",
       "stream": "stdout",
       "text": [
        "\n",
        "0"
       ]
      },
      {
       "output_type": "stream",
       "stream": "stdout",
       "text": [
        "\n",
        "0"
       ]
      },
      {
       "output_type": "stream",
       "stream": "stdout",
       "text": [
        "\n",
        "1"
       ]
      },
      {
       "output_type": "stream",
       "stream": "stdout",
       "text": [
        "\n",
        "1"
       ]
      },
      {
       "output_type": "stream",
       "stream": "stdout",
       "text": [
        "\n",
        "1"
       ]
      },
      {
       "output_type": "stream",
       "stream": "stdout",
       "text": [
        "\n",
        "1"
       ]
      },
      {
       "output_type": "stream",
       "stream": "stdout",
       "text": [
        "\n",
        "1"
       ]
      },
      {
       "output_type": "stream",
       "stream": "stdout",
       "text": [
        "\n",
        "1"
       ]
      },
      {
       "output_type": "stream",
       "stream": "stdout",
       "text": [
        "\n",
        "1"
       ]
      },
      {
       "output_type": "stream",
       "stream": "stdout",
       "text": [
        "\n",
        "1"
       ]
      },
      {
       "output_type": "stream",
       "stream": "stdout",
       "text": [
        "\n",
        "1"
       ]
      },
      {
       "output_type": "stream",
       "stream": "stdout",
       "text": [
        "\n",
        "1"
       ]
      },
      {
       "output_type": "stream",
       "stream": "stdout",
       "text": [
        "\n",
        "1"
       ]
      },
      {
       "output_type": "stream",
       "stream": "stdout",
       "text": [
        "\n",
        "1"
       ]
      },
      {
       "output_type": "stream",
       "stream": "stdout",
       "text": [
        "\n",
        "1"
       ]
      },
      {
       "output_type": "stream",
       "stream": "stdout",
       "text": [
        "\n",
        "1"
       ]
      },
      {
       "output_type": "stream",
       "stream": "stdout",
       "text": [
        "\n",
        "1"
       ]
      },
      {
       "output_type": "stream",
       "stream": "stdout",
       "text": [
        "\n",
        "1"
       ]
      },
      {
       "output_type": "stream",
       "stream": "stdout",
       "text": [
        "\n",
        "1"
       ]
      },
      {
       "output_type": "stream",
       "stream": "stdout",
       "text": [
        "\n",
        "1"
       ]
      },
      {
       "output_type": "stream",
       "stream": "stdout",
       "text": [
        "\n",
        "0"
       ]
      },
      {
       "output_type": "stream",
       "stream": "stdout",
       "text": [
        "\n",
        "0"
       ]
      },
      {
       "output_type": "stream",
       "stream": "stdout",
       "text": [
        "\n",
        "0"
       ]
      },
      {
       "output_type": "stream",
       "stream": "stdout",
       "text": [
        "\n",
        "0"
       ]
      },
      {
       "output_type": "stream",
       "stream": "stdout",
       "text": [
        "\n",
        "0"
       ]
      },
      {
       "output_type": "stream",
       "stream": "stdout",
       "text": [
        "\n",
        "0"
       ]
      }
     ]
    },
    {
     "cell_type": "code",
     "collapsed": false,
     "input": [
      "ser.close()"
     ],
     "language": "python",
     "metadata": {},
     "outputs": [],
     "prompt_number": 16
    },
    {
     "cell_type": "code",
     "collapsed": false,
     "input": [
      "#base_cmd = np.mean(np.abs(base_vec),axis=0)\n",
      "#light_cmd = np.mean(np.abs(light_vec),axis=0)\n",
      "run = True\n",
      "#comm = serial.Serial(port,baudrate=115200)\n",
      "while run:\n",
      "    cnt_vec = readVec(ser)\n",
      "    newcnt_vec = np.array(cnt_vec) - int(np.mean(cnt_vec))               #Remove the DC Bias component of the vector                               #plots wave\n",
      "    Fnew, wnew, iposnew, freqsnew, magsnew = fast_fft(newcnt_vec, S_time)\n",
      "    b_com = np.sum(abs(base_cmd - np.abs(magsnew)))\n",
      "    l_com = np.sum(abs(light_cmd - np.abs(magsnew)))\n",
      "    if l_com < b_com:\n",
      "        ser.write('X')\n",
      "        light = 1\n",
      "        print light\n",
      "    else:\n",
      "        ser.write('O')\n",
      "        light = 0\n",
      "        print light"
     ],
     "language": "python",
     "metadata": {},
     "outputs": [
      {
       "ename": "IndexError",
       "evalue": "index 201 is out of bounds for size 201",
       "output_type": "pyerr",
       "traceback": [
        "\u001b[1;31m---------------------------------------------------------------------------\u001b[0m\n\u001b[1;31mIndexError\u001b[0m                                Traceback (most recent call last)",
        "\u001b[1;32m<ipython-input-14-b751f53c6d67>\u001b[0m in \u001b[0;36m<module>\u001b[1;34m()\u001b[0m\n\u001b[0;32m      6\u001b[0m     \u001b[0mcnt_vec\u001b[0m \u001b[1;33m=\u001b[0m \u001b[0mreadVec\u001b[0m\u001b[1;33m(\u001b[0m\u001b[0mser\u001b[0m\u001b[1;33m)\u001b[0m\u001b[1;33m\u001b[0m\u001b[0m\n\u001b[0;32m      7\u001b[0m     \u001b[0mnewcnt_vec\u001b[0m \u001b[1;33m=\u001b[0m \u001b[0mnp\u001b[0m\u001b[1;33m.\u001b[0m\u001b[0marray\u001b[0m\u001b[1;33m(\u001b[0m\u001b[0mcnt_vec\u001b[0m\u001b[1;33m)\u001b[0m \u001b[1;33m-\u001b[0m \u001b[0mint\u001b[0m\u001b[1;33m(\u001b[0m\u001b[0mnp\u001b[0m\u001b[1;33m.\u001b[0m\u001b[0mmean\u001b[0m\u001b[1;33m(\u001b[0m\u001b[0mcnt_vec\u001b[0m\u001b[1;33m)\u001b[0m\u001b[1;33m)\u001b[0m               \u001b[1;31m#Remove the DC Bias component of the vector                               #plots wave\u001b[0m\u001b[1;33m\u001b[0m\u001b[0m\n\u001b[1;32m----> 8\u001b[1;33m     \u001b[0mFnew\u001b[0m\u001b[1;33m,\u001b[0m \u001b[0mwnew\u001b[0m\u001b[1;33m,\u001b[0m \u001b[0miposnew\u001b[0m\u001b[1;33m,\u001b[0m \u001b[0mfreqsnew\u001b[0m\u001b[1;33m,\u001b[0m \u001b[0mmagsnew\u001b[0m \u001b[1;33m=\u001b[0m \u001b[0mfast_fft\u001b[0m\u001b[1;33m(\u001b[0m\u001b[0mnewcnt_vec\u001b[0m\u001b[1;33m,\u001b[0m \u001b[0mS_time\u001b[0m\u001b[1;33m)\u001b[0m\u001b[1;33m\u001b[0m\u001b[0m\n\u001b[0m\u001b[0;32m      9\u001b[0m     \u001b[0mb_com\u001b[0m \u001b[1;33m=\u001b[0m \u001b[0mnp\u001b[0m\u001b[1;33m.\u001b[0m\u001b[0msum\u001b[0m\u001b[1;33m(\u001b[0m\u001b[0mabs\u001b[0m\u001b[1;33m(\u001b[0m\u001b[0mbase_cmd\u001b[0m \u001b[1;33m-\u001b[0m \u001b[0mnp\u001b[0m\u001b[1;33m.\u001b[0m\u001b[0mabs\u001b[0m\u001b[1;33m(\u001b[0m\u001b[0mmagsnew\u001b[0m\u001b[1;33m)\u001b[0m\u001b[1;33m)\u001b[0m\u001b[1;33m)\u001b[0m\u001b[1;33m\u001b[0m\u001b[0m\n\u001b[0;32m     10\u001b[0m     \u001b[0ml_com\u001b[0m \u001b[1;33m=\u001b[0m \u001b[0mnp\u001b[0m\u001b[1;33m.\u001b[0m\u001b[0msum\u001b[0m\u001b[1;33m(\u001b[0m\u001b[0mabs\u001b[0m\u001b[1;33m(\u001b[0m\u001b[0mlight_cmd\u001b[0m \u001b[1;33m-\u001b[0m \u001b[0mnp\u001b[0m\u001b[1;33m.\u001b[0m\u001b[0mabs\u001b[0m\u001b[1;33m(\u001b[0m\u001b[0mmagsnew\u001b[0m\u001b[1;33m)\u001b[0m\u001b[1;33m)\u001b[0m\u001b[1;33m)\u001b[0m\u001b[1;33m\u001b[0m\u001b[0m\n",
        "\u001b[1;32m<ipython-input-13-c73c24e734da>\u001b[0m in \u001b[0;36mfast_fft\u001b[1;34m(vec, S_time)\u001b[0m\n\u001b[0;32m     15\u001b[0m     \u001b[0mfreqs\u001b[0m \u001b[1;33m=\u001b[0m \u001b[0mw\u001b[0m\u001b[1;33m[\u001b[0m\u001b[0mipos\u001b[0m\u001b[1;33m]\u001b[0m\u001b[1;33m\u001b[0m\u001b[0m\n\u001b[0;32m     16\u001b[0m     \u001b[0mx\u001b[0m \u001b[1;33m=\u001b[0m \u001b[0mlen\u001b[0m\u001b[1;33m(\u001b[0m\u001b[0mf\u001b[0m\u001b[1;33m)\u001b[0m \u001b[1;33m-\u001b[0m\u001b[1;36m1\u001b[0m\u001b[1;31m# only look at positive frequencies\u001b[0m\u001b[1;33m\u001b[0m\u001b[0m\n\u001b[1;32m---> 17\u001b[1;33m     \u001b[0mmags\u001b[0m \u001b[1;33m=\u001b[0m \u001b[0mabs\u001b[0m\u001b[1;33m(\u001b[0m\u001b[0mf\u001b[0m\u001b[1;33m[\u001b[0m\u001b[0mipos\u001b[0m\u001b[1;33m[\u001b[0m\u001b[1;36m0\u001b[0m\u001b[1;33m:\u001b[0m\u001b[0mx\u001b[0m\u001b[1;33m]\u001b[0m\u001b[1;33m]\u001b[0m\u001b[1;33m)\u001b[0m                   \u001b[1;31m# magnitude spectrum\u001b[0m\u001b[1;33m\u001b[0m\u001b[0m\n\u001b[0m\u001b[0;32m     18\u001b[0m     \u001b[1;32mreturn\u001b[0m \u001b[0mf\u001b[0m\u001b[1;33m,\u001b[0m \u001b[0mw\u001b[0m\u001b[1;33m,\u001b[0m \u001b[0mipos\u001b[0m\u001b[1;33m,\u001b[0m \u001b[0mfreqs\u001b[0m\u001b[1;33m,\u001b[0m \u001b[0mmags\u001b[0m\u001b[1;33m\u001b[0m\u001b[0m\n\u001b[0;32m     19\u001b[0m \u001b[1;33m\u001b[0m\u001b[0m\n",
        "\u001b[1;31mIndexError\u001b[0m: index 201 is out of bounds for size 201"
       ]
      }
     ],
     "prompt_number": 14
    },
    {
     "cell_type": "code",
     "collapsed": false,
     "input": [
      "print len(cnt_vec)\n",
      "print len(magsb)"
     ],
     "language": "python",
     "metadata": {},
     "outputs": [
      {
       "output_type": "stream",
       "stream": "stdout",
       "text": [
        "201\n",
        "500\n"
       ]
      }
     ],
     "prompt_number": 19
    },
    {
     "cell_type": "code",
     "collapsed": false,
     "input": [],
     "language": "python",
     "metadata": {},
     "outputs": []
    },
    {
     "cell_type": "code",
     "collapsed": false,
     "input": [
      "base_cmd = np.mean(np.abs(magsb),axis=0)\n",
      "light_cmd = np.mean(np.abs(magsl),axis=0)\n",
      "run = True\n",
      "#comm = serial.Serial(port,baudrate=115200)\n",
      "while run:\n",
      "    cnt_vec = np.fft.fft(readVec(ser))\n",
      "    b_com = np.sum(abs(base_cmd - np.abs(cnt_vec)))\n",
      "    l_com = np.sum(abs(light_cmd - np.abs(cnt_vec)))\n",
      "    if l_com < b_com:\n",
      "        ser.write('X')\n",
      "        light = 1\n",
      "        print light\n",
      "    else:\n",
      "        ser.write('O')\n",
      "        light = 0\n",
      "        print light"
     ],
     "language": "python",
     "metadata": {},
     "outputs": [
      {
       "output_type": "stream",
       "stream": "stdout",
       "text": [
        "1\n",
        "1"
       ]
      },
      {
       "output_type": "stream",
       "stream": "stdout",
       "text": [
        "\n",
        "1"
       ]
      },
      {
       "output_type": "stream",
       "stream": "stdout",
       "text": [
        "\n",
        "1"
       ]
      },
      {
       "output_type": "stream",
       "stream": "stdout",
       "text": [
        "\n",
        "1"
       ]
      },
      {
       "output_type": "stream",
       "stream": "stdout",
       "text": [
        "\n",
        "1"
       ]
      },
      {
       "output_type": "stream",
       "stream": "stdout",
       "text": [
        "\n",
        "1"
       ]
      },
      {
       "output_type": "stream",
       "stream": "stdout",
       "text": [
        "\n",
        "1"
       ]
      },
      {
       "output_type": "stream",
       "stream": "stdout",
       "text": [
        "\n"
       ]
      },
      {
       "ename": "KeyboardInterrupt",
       "evalue": "",
       "output_type": "pyerr",
       "traceback": [
        "\u001b[1;31m---------------------------------------------------------------------------\u001b[0m\n\u001b[1;31mKeyboardInterrupt\u001b[0m                         Traceback (most recent call last)",
        "\u001b[1;32m<ipython-input-8-81f78d7e9e26>\u001b[0m in \u001b[0;36m<module>\u001b[1;34m()\u001b[0m\n\u001b[0;32m      4\u001b[0m \u001b[1;31m#comm = serial.Serial(port,baudrate=115200)\u001b[0m\u001b[1;33m\u001b[0m\u001b[1;33m\u001b[0m\u001b[0m\n\u001b[0;32m      5\u001b[0m \u001b[1;32mwhile\u001b[0m \u001b[0mrun\u001b[0m\u001b[1;33m:\u001b[0m\u001b[1;33m\u001b[0m\u001b[0m\n\u001b[1;32m----> 6\u001b[1;33m     \u001b[0mcnt_vec\u001b[0m \u001b[1;33m=\u001b[0m \u001b[0mnp\u001b[0m\u001b[1;33m.\u001b[0m\u001b[0mfft\u001b[0m\u001b[1;33m.\u001b[0m\u001b[0mfft\u001b[0m\u001b[1;33m(\u001b[0m\u001b[0mreadVec\u001b[0m\u001b[1;33m(\u001b[0m\u001b[0mser\u001b[0m\u001b[1;33m)\u001b[0m\u001b[1;33m)\u001b[0m\u001b[1;33m\u001b[0m\u001b[0m\n\u001b[0m\u001b[0;32m      7\u001b[0m     \u001b[0mb_com\u001b[0m \u001b[1;33m=\u001b[0m \u001b[0mnp\u001b[0m\u001b[1;33m.\u001b[0m\u001b[0msum\u001b[0m\u001b[1;33m(\u001b[0m\u001b[0mabs\u001b[0m\u001b[1;33m(\u001b[0m\u001b[0mbase_cmd\u001b[0m \u001b[1;33m-\u001b[0m \u001b[0mnp\u001b[0m\u001b[1;33m.\u001b[0m\u001b[0mabs\u001b[0m\u001b[1;33m(\u001b[0m\u001b[0mcnt_vec\u001b[0m\u001b[1;33m)\u001b[0m\u001b[1;33m)\u001b[0m\u001b[1;33m)\u001b[0m\u001b[1;33m\u001b[0m\u001b[0m\n\u001b[0;32m      8\u001b[0m     \u001b[0ml_com\u001b[0m \u001b[1;33m=\u001b[0m \u001b[0mnp\u001b[0m\u001b[1;33m.\u001b[0m\u001b[0msum\u001b[0m\u001b[1;33m(\u001b[0m\u001b[0mabs\u001b[0m\u001b[1;33m(\u001b[0m\u001b[0mlight_cmd\u001b[0m \u001b[1;33m-\u001b[0m \u001b[0mnp\u001b[0m\u001b[1;33m.\u001b[0m\u001b[0mabs\u001b[0m\u001b[1;33m(\u001b[0m\u001b[0mcnt_vec\u001b[0m\u001b[1;33m)\u001b[0m\u001b[1;33m)\u001b[0m\u001b[1;33m)\u001b[0m\u001b[1;33m\u001b[0m\u001b[0m\n",
        "\u001b[1;32m<ipython-input-2-c816868d5b78>\u001b[0m in \u001b[0;36mreadVec\u001b[1;34m(ser)\u001b[0m\n\u001b[0;32m     54\u001b[0m     \u001b[1;32mwhile\u001b[0m \u001b[0mcnt\u001b[0m \u001b[1;33m<=\u001b[0m \u001b[0mlim\u001b[0m\u001b[1;33m:\u001b[0m      \u001b[1;31m#ser.read() is not None and cnt <= 100:\u001b[0m\u001b[1;33m\u001b[0m\u001b[0m\n\u001b[0;32m     55\u001b[0m         \u001b[1;31m# Wait until header 'H'\u001b[0m\u001b[1;33m\u001b[0m\u001b[1;33m\u001b[0m\u001b[0m\n\u001b[1;32m---> 56\u001b[1;33m         \u001b[1;32mif\u001b[0m \u001b[0mser\u001b[0m\u001b[1;33m.\u001b[0m\u001b[0mread\u001b[0m\u001b[1;33m(\u001b[0m\u001b[1;33m)\u001b[0m \u001b[1;32mis\u001b[0m \u001b[1;34m'H'\u001b[0m\u001b[1;33m:\u001b[0m\u001b[1;33m\u001b[0m\u001b[0m\n\u001b[0m\u001b[0;32m     57\u001b[0m             \u001b[1;31m# Read n bytes for 'ser.read(n)'\u001b[0m\u001b[1;33m\u001b[0m\u001b[1;33m\u001b[0m\u001b[0m\n\u001b[0;32m     58\u001b[0m             \u001b[0mdata\u001b[0m \u001b[1;33m=\u001b[0m \u001b[0mser\u001b[0m\u001b[1;33m.\u001b[0m\u001b[0mread\u001b[0m\u001b[1;33m(\u001b[0m\u001b[1;36m2\u001b[0m\u001b[1;33m)\u001b[0m\u001b[1;33m\u001b[0m\u001b[0m\n",
        "\u001b[1;32mC:\\Python27\\lib\\site-packages\\serial\\serialwin32.pyc\u001b[0m in \u001b[0;36mread\u001b[1;34m(self, size)\u001b[0m\n\u001b[0;32m    269\u001b[0m                 \u001b[1;32mif\u001b[0m \u001b[1;32mnot\u001b[0m \u001b[0merr\u001b[0m \u001b[1;32mand\u001b[0m \u001b[0mwin32\u001b[0m\u001b[1;33m.\u001b[0m\u001b[0mGetLastError\u001b[0m\u001b[1;33m(\u001b[0m\u001b[1;33m)\u001b[0m \u001b[1;33m!=\u001b[0m \u001b[0mwin32\u001b[0m\u001b[1;33m.\u001b[0m\u001b[0mERROR_IO_PENDING\u001b[0m\u001b[1;33m:\u001b[0m\u001b[1;33m\u001b[0m\u001b[0m\n\u001b[0;32m    270\u001b[0m                     \u001b[1;32mraise\u001b[0m \u001b[0mSerialException\u001b[0m\u001b[1;33m(\u001b[0m\u001b[1;34m\"ReadFile failed (%r)\"\u001b[0m \u001b[1;33m%\u001b[0m \u001b[0mctypes\u001b[0m\u001b[1;33m.\u001b[0m\u001b[0mWinError\u001b[0m\u001b[1;33m(\u001b[0m\u001b[1;33m)\u001b[0m\u001b[1;33m)\u001b[0m\u001b[1;33m\u001b[0m\u001b[0m\n\u001b[1;32m--> 271\u001b[1;33m                 \u001b[0merr\u001b[0m \u001b[1;33m=\u001b[0m \u001b[0mwin32\u001b[0m\u001b[1;33m.\u001b[0m\u001b[0mGetOverlappedResult\u001b[0m\u001b[1;33m(\u001b[0m\u001b[0mself\u001b[0m\u001b[1;33m.\u001b[0m\u001b[0mhComPort\u001b[0m\u001b[1;33m,\u001b[0m \u001b[0mctypes\u001b[0m\u001b[1;33m.\u001b[0m\u001b[0mbyref\u001b[0m\u001b[1;33m(\u001b[0m\u001b[0mself\u001b[0m\u001b[1;33m.\u001b[0m\u001b[0m_overlappedRead\u001b[0m\u001b[1;33m)\u001b[0m\u001b[1;33m,\u001b[0m \u001b[0mctypes\u001b[0m\u001b[1;33m.\u001b[0m\u001b[0mbyref\u001b[0m\u001b[1;33m(\u001b[0m\u001b[0mrc\u001b[0m\u001b[1;33m)\u001b[0m\u001b[1;33m,\u001b[0m \u001b[0mTrue\u001b[0m\u001b[1;33m)\u001b[0m\u001b[1;33m\u001b[0m\u001b[0m\n\u001b[0m\u001b[0;32m    272\u001b[0m                 \u001b[0mread\u001b[0m \u001b[1;33m=\u001b[0m \u001b[0mbuf\u001b[0m\u001b[1;33m.\u001b[0m\u001b[0mraw\u001b[0m\u001b[1;33m[\u001b[0m\u001b[1;33m:\u001b[0m\u001b[0mrc\u001b[0m\u001b[1;33m.\u001b[0m\u001b[0mvalue\u001b[0m\u001b[1;33m]\u001b[0m\u001b[1;33m\u001b[0m\u001b[0m\n\u001b[0;32m    273\u001b[0m         \u001b[1;32melse\u001b[0m\u001b[1;33m:\u001b[0m\u001b[1;33m\u001b[0m\u001b[0m\n",
        "\u001b[1;31mKeyboardInterrupt\u001b[0m: "
       ]
      }
     ],
     "prompt_number": 8
    },
    {
     "cell_type": "code",
     "collapsed": false,
     "input": [
      "print cnt_vec"
     ],
     "language": "python",
     "metadata": {},
     "outputs": [
      {
       "output_type": "stream",
       "stream": "stdout",
       "text": [
        "[304, 304, 304, 304, 304, 304, 304, 304, 304, 304, 304, 304, 304, 304, 304, 304, 304, 304, 304, 304, 304, 304, 304, 304, 304, 304, 304, 304, 304, 304, 304, 304, 304, 304, 304, 304, 304, 304, 304, 304, 304, 304, 304, 304, 304, 304, 304, 304, 304, 304, 304, 304, 304, 304, 304, 304, 304, 304, 304, 304, 304, 304, 304, 304, 304, 304, 304, 304, 304, 304, 304, 304, 304, 304, 304, 304, 304, 304, 304, 304, 304, 304, 304, 304, 304, 304, 304, 304, 304, 304, 304, 304, 304, 304, 304, 304, 304, 304, 304, 304, 304, 304, 304, 304, 304, 304, 304, 304, 304, 304, 304, 304, 304, 304, 304, 304, 304, 304, 304, 304, 304, 304, 304, 304, 304, 304, 304, 304, 304, 304, 304, 304, 304, 304, 304, 304, 304, 304, 304, 304, 304, 304, 304, 304, 304, 304, 304, 304, 304, 304, 304, 304, 304, 304, 304, 304, 304, 304, 304, 304, 304, 304, 304, 304, 304, 304, 304, 304, 304, 304, 304, 304, 304, 304, 304, 304, 304, 304, 304, 304, 304, 304, 304, 304, 304, 304, 304, 304, 304, 304, 304, 304, 304, 304, 304, 304, 304, 304, 304, 304, 304]\n"
       ]
      }
     ],
     "prompt_number": 16
    },
    {
     "cell_type": "heading",
     "level": 3,
     "metadata": {},
     "source": [
      "Sample Format:"
     ]
    },
    {
     "cell_type": "code",
     "collapsed": false,
     "input": [
      "#np.array(base_vec) - np.array(light_vec)\n",
      "print len(base_vec)\n",
      "print len(light_vec)"
     ],
     "language": "python",
     "metadata": {},
     "outputs": [
      {
       "output_type": "stream",
       "stream": "stdout",
       "text": [
        "1001\n",
        "1001\n"
       ]
      }
     ],
     "prompt_number": 12
    },
    {
     "cell_type": "raw",
     "metadata": {},
     "source": [
      "Note that the sample size is 2 byte.\n",
      "The sample format is:\n",
      "upper 4-bits: ADC port number\n",
      "lower 10-bits: ADC sample\n",
      "Bits 10 and 11: unused\n",
      "\n",
      "FORMAT:\n",
      "[b15,b14,b,b13,b12][ b11,b10  ][b9,b8,b7,b6,b5,b4,b3,b2,b1,b0]\n",
      "[       port      ][ not used ][       ADC read value        ]"
     ]
    },
    {
     "cell_type": "code",
     "collapsed": false,
     "input": [
      "# parse out the signal data\n",
      "for i in range(len(vec)):\n",
      "    vec[i] = vec[i] & 0x03ff"
     ],
     "language": "python",
     "metadata": {},
     "outputs": [],
     "prompt_number": 9
    },
    {
     "cell_type": "heading",
     "level": 3,
     "metadata": {},
     "source": [
      "FFT:"
     ]
    },
    {
     "cell_type": "code",
     "collapsed": false,
     "input": [
      "%pylab inline\n",
      "import numpy as np"
     ],
     "language": "python",
     "metadata": {},
     "outputs": [
      {
       "output_type": "stream",
       "stream": "stdout",
       "text": [
        "Populating the interactive namespace from numpy and matplotlib\n"
       ]
      }
     ],
     "prompt_number": 10
    },
    {
     "cell_type": "code",
     "collapsed": false,
     "input": [
      "def wave_plot(t,smp_vec): #plots a wave\n",
      "    plot(t[0:50], smp_vec[0:50], 'b-')\n",
      "    title('Brain Waves')\n",
      "    xlabel(\"TIME (sec)\")\n",
      "    ylabel(\"Amplitude\")\n",
      "    show()\n",
      "\n",
      "def fast_fft(vec, S_time): #Performs FFT\n",
      "    f = np.fft.fft(vec)\n",
      "    t = linspace(0,S_time,lim + 1)\n",
      "    N = len(t)                            #Number of Samples\n",
      "    dt = S_time/N                         #Inter-sample length\n",
      "    w = np.fft.fftfreq(N, dt)             # List of freqeuencies for the FFT\n",
      "    ipos = where(w>0)\n",
      "    freqs = w[ipos]                       # only look at positive frequencies\n",
      "    mags = abs(f[ipos])                   # magnitude spectrum\n",
      "    return f, w, ipos, freqs, mags\n",
      "\n",
      "def fft_graph(freqs,mags):\n",
      "    plot(freqs, mags, 'b-')\n",
      "    xlim([0, 62])          # replot but zoom in on freqs 0-xx Hz\n",
      "    ylabel(\"POWER\")\n",
      "    xlabel(\"FREQUENCY (Hz)\")\n",
      "    #savefig('foo.pdf')\n",
      "    show()\n",
      "\n",
      "def DSP(remove_freq, signal, ipos):   #Filters signal\n",
      "    for i in range(len(remove_freq)):\n",
      "        signal[remove_freq[i]] = 0\n",
      "        x = len(signal) - remove_freq[i]\n",
      "        signal[x] = 0\n",
      "    clean_sig = ifft(signal)          # reconstruct\n",
      "    clean_fft = abs(signal[ipos])  # magnitude component\n",
      "    return clean_fft, clean_sig\n",
      "\n",
      "def sorty(F, t_hold):\n",
      "    top_bin = where(F > t_hold)[0] + 1\n",
      "    sorties = np.argsort(F)\n",
      "    sorties = sorties[::-1]\n",
      "    for i in range(len(sorties)):\n",
      "        sorties[i] = sorties[i] + 1\n",
      "    #print 'High Frequencies',top_bin\n",
      "    #print sorties\n",
      "    return sorties, top_bin\n",
      "\n",
      "def readVec(ser):\n",
      "    vec=[]\n",
      "    cnt=0\n",
      "    lim = 200\n",
      "    # Empty the port buffer\n",
      "    ser.flushInput()\n",
      "    # Read 'lim' number of samples\n",
      "    while cnt <= lim:      #ser.read() is not None and cnt <= 100:\n",
      "        # Wait until header 'H'\n",
      "        if ser.read() is 'H':\n",
      "            # Read n bytes for 'ser.read(n)'\n",
      "            data = ser.read(2)\n",
      "            # Add the data to the vector and decode fron hex to integer\n",
      "            vec.append(int(data.encode('hex'), 16) & 0x3ff)\n",
      "            # increment the counter\n",
      "            cnt += 1\n",
      "    return vec\n",
      " \n",
      "     "
     ],
     "language": "python",
     "metadata": {},
     "outputs": [],
     "prompt_number": 27
    },
    {
     "cell_type": "code",
     "collapsed": false,
     "input": [
      "###################################SETUP##################################\n",
      "S_time = 5.\n",
      "t = linspace(0,S_time,lim + 1)        #<**** time here is the length of sampling time.  We need to find the length of sampling time#####################\n",
      "vec = np.array(vec) - int(mean(vec))  #512    #Remove the DC Bias component of the vector\n",
      "F = np.fft.fft(vec)                   # compute FFT\n",
      "N = len(t)                            # Number of Samples\n",
      "dt = S_time/N                         # Inter sample time difference\n",
      "w = np.fft.fftfreq(N, dt)             # List of freqeuencies for the FFT\n",
      "ipos = where(w>0)\n",
      "freqs = w[ipos]                       # only look at positive frequencies\n",
      "mags = abs(F[ipos])                   # magnitude spectrum\n",
      "\n",
      "#########PLOTS###########################################################\n",
      "#subplot(311)\n",
      "plot(t[0:50], vec[0:50], 'b-')\n",
      "#plot(t, vec, 'b-')\n",
      "xlabel(\"TIME (sec)\")\n",
      "ylabel(\"SIGNAL MAGNITUDE\")\n",
      "show()\n",
      "\n",
      "plot(freqs, mags, 'b-')\n",
      "xlim([0, 58])          # replot but zoom in on freqs 0-70 Hz\n",
      "ylabel(\"POWER\")\n",
      "xlabel(\"FREQUENCY (Hz)\")\n",
      "#savefig(\"signal_3freqs.jpg\", dpi=150)\n",
      "savefig('foo.pdf')\n",
      "show()\n",
      "\n",
      "# compute and plot the power spectral density\n",
      "psd(vec, Fs=200)\n",
      "#savefig(\"signal_50_psd.jpg\", dpi=150)\n",
      "show()"
     ],
     "language": "python",
     "metadata": {},
     "outputs": [
      {
       "ename": "NameError",
       "evalue": "name 'vec' is not defined",
       "output_type": "pyerr",
       "traceback": [
        "\u001b[1;31m---------------------------------------------------------------------------\u001b[0m\n\u001b[1;31mNameError\u001b[0m                                 Traceback (most recent call last)",
        "\u001b[1;32m<ipython-input-22-837ce71fd9b9>\u001b[0m in \u001b[0;36m<module>\u001b[1;34m()\u001b[0m\n\u001b[0;32m      2\u001b[0m \u001b[0mS_time\u001b[0m \u001b[1;33m=\u001b[0m \u001b[1;36m5.\u001b[0m\u001b[1;33m\u001b[0m\u001b[0m\n\u001b[0;32m      3\u001b[0m \u001b[0mt\u001b[0m \u001b[1;33m=\u001b[0m \u001b[0mlinspace\u001b[0m\u001b[1;33m(\u001b[0m\u001b[1;36m0\u001b[0m\u001b[1;33m,\u001b[0m\u001b[0mS_time\u001b[0m\u001b[1;33m,\u001b[0m\u001b[0mlim\u001b[0m \u001b[1;33m+\u001b[0m \u001b[1;36m1\u001b[0m\u001b[1;33m)\u001b[0m        \u001b[1;31m#<**** time here is the length of sampling time.  We need to find the length of sampling time#####################\u001b[0m\u001b[1;33m\u001b[0m\u001b[0m\n\u001b[1;32m----> 4\u001b[1;33m \u001b[0mvec\u001b[0m \u001b[1;33m=\u001b[0m \u001b[0mnp\u001b[0m\u001b[1;33m.\u001b[0m\u001b[0marray\u001b[0m\u001b[1;33m(\u001b[0m\u001b[0mvec\u001b[0m\u001b[1;33m)\u001b[0m \u001b[1;33m-\u001b[0m \u001b[0mint\u001b[0m\u001b[1;33m(\u001b[0m\u001b[0mmean\u001b[0m\u001b[1;33m(\u001b[0m\u001b[0mvec\u001b[0m\u001b[1;33m)\u001b[0m\u001b[1;33m)\u001b[0m  \u001b[1;31m#512    #Remove the DC Bias component of the vector\u001b[0m\u001b[1;33m\u001b[0m\u001b[0m\n\u001b[0m\u001b[0;32m      5\u001b[0m \u001b[0mF\u001b[0m \u001b[1;33m=\u001b[0m \u001b[0mnp\u001b[0m\u001b[1;33m.\u001b[0m\u001b[0mfft\u001b[0m\u001b[1;33m.\u001b[0m\u001b[0mfft\u001b[0m\u001b[1;33m(\u001b[0m\u001b[0mvec\u001b[0m\u001b[1;33m)\u001b[0m                   \u001b[1;31m# compute FFT\u001b[0m\u001b[1;33m\u001b[0m\u001b[0m\n\u001b[0;32m      6\u001b[0m \u001b[0mN\u001b[0m \u001b[1;33m=\u001b[0m \u001b[0mlen\u001b[0m\u001b[1;33m(\u001b[0m\u001b[0mt\u001b[0m\u001b[1;33m)\u001b[0m                            \u001b[1;31m# Number of Samples\u001b[0m\u001b[1;33m\u001b[0m\u001b[0m\n",
        "\u001b[1;31mNameError\u001b[0m: name 'vec' is not defined"
       ]
      }
     ],
     "prompt_number": 22
    },
    {
     "cell_type": "code",
     "collapsed": false,
     "input": [
      "print vec\n",
      "print 'length is ',len(vec)"
     ],
     "language": "python",
     "metadata": {},
     "outputs": [
      {
       "output_type": "stream",
       "stream": "stdout",
       "text": [
        "[ -29 -107   36 ...,    5 -107   44]\n",
        "length is  1001\n"
       ]
      }
     ],
     "prompt_number": 14
    },
    {
     "cell_type": "heading",
     "level": 3,
     "metadata": {},
     "source": [
      "View Signal Data:"
     ]
    },
    {
     "cell_type": "code",
     "collapsed": false,
     "input": [
      "import time\n",
      "def read128():\n",
      "    vec = []\n",
      "    cnt = 0\n",
      "    ser.flushInput()\n",
      "    ser.write('S')#request payload\n",
      "    if ser.read()=='H':\n",
      "        while cnt<128:\n",
      "            data = ser.read(2)\n",
      "            vec.append(int(data.encode('hex'), 16))\n",
      "            cnt += 1\n",
      "    vec = np.array(vec) - np.mean(vec)\n",
      "    return vec"
     ],
     "language": "python",
     "metadata": {},
     "outputs": [],
     "prompt_number": 23
    },
    {
     "cell_type": "code",
     "collapsed": false,
     "input": [
      "# Baseline\n",
      "\n",
      "s_time = 8.3\n",
      "base = []\n",
      "for i in range(5):\n",
      "    read = read128()\n",
      "    limit = len(fft)/2\n",
      "    read = np.abs(np.fft.fft(read))[0:limit]\n",
      "    base.append(read)\n",
      "    time.sleep(0.5)\n"
     ],
     "language": "python",
     "metadata": {},
     "outputs": [],
     "prompt_number": 45
    },
    {
     "cell_type": "code",
     "collapsed": false,
     "input": [
      "# Light\n",
      "\n",
      "s_time = 8.3\n",
      "light = []\n",
      "for i in range(5):\n",
      "    read = read128()\n",
      "    limit = len(fft)/2\n",
      "    read = np.abs(np.fft.fft(read))[0:limit]\n",
      "    light.append(read)\n",
      "    time.sleep(0.5)\n"
     ],
     "language": "python",
     "metadata": {},
     "outputs": [],
     "prompt_number": 46
    },
    {
     "cell_type": "code",
     "collapsed": false,
     "input": [
      "for b in base:\n",
      "    plot(range(len(b)),b)\n",
      "show()\n",
      "\n",
      "for l in light:\n",
      "    plot(range(len(l)),l)"
     ],
     "language": "python",
     "metadata": {},
     "outputs": [
      {
       "metadata": {},
       "output_type": "display_data",
       "png": "[encoded data removed]",
       "text": [
        "<matplotlib.figure.Figure at 0x8ed56b0>"
       ]
      },
      {
       "metadata": {},
       "output_type": "display_data",
       "png": "[encoded data removed]",
       "text": [
        "<matplotlib.figure.Figure at 0x8ac9930>"
       ]
      }
     ],
     "prompt_number": 47
    },
    {
     "cell_type": "code",
     "collapsed": false,
     "input": [
      "light_vec = np.mean(light,axis=0)\n",
      "base_vec = np.mean(base,axis=0)"
     ],
     "language": "python",
     "metadata": {},
     "outputs": [],
     "prompt_number": 48
    },
    {
     "cell_type": "code",
     "collapsed": false,
     "input": [
      "while True:\n",
      "    read = read128()\n",
      "    limit = len(fft)/2\n",
      "    vec = np.abs(np.fft.fft(read))[0:limit]\n",
      "    light_cmd = np.abs(np.sum(vec - light_vec))\n",
      "    base_cmd = np.abs(np.sum(vec - base_vec))\n",
      "    if light_cmd <= base_cmd:\n",
      "        ser.write('X')\n",
      "    else:\n",
      "        ser.write('O')\n",
      "    time.sleep(0.2)"
     ],
     "language": "python",
     "metadata": {},
     "outputs": [
      {
       "ename": "KeyboardInterrupt",
       "evalue": "",
       "output_type": "pyerr",
       "traceback": [
        "\u001b[1;31m---------------------------------------------------------------------------\u001b[0m\n\u001b[1;31mKeyboardInterrupt\u001b[0m                         Traceback (most recent call last)",
        "\u001b[1;32m<ipython-input-49-29f9a2db8e3c>\u001b[0m in \u001b[0;36m<module>\u001b[1;34m()\u001b[0m\n\u001b[0;32m      1\u001b[0m \u001b[1;32mwhile\u001b[0m \u001b[0mTrue\u001b[0m\u001b[1;33m:\u001b[0m\u001b[1;33m\u001b[0m\u001b[0m\n\u001b[1;32m----> 2\u001b[1;33m     \u001b[0mread\u001b[0m \u001b[1;33m=\u001b[0m \u001b[0mread128\u001b[0m\u001b[1;33m(\u001b[0m\u001b[1;33m)\u001b[0m\u001b[1;33m\u001b[0m\u001b[0m\n\u001b[0m\u001b[0;32m      3\u001b[0m     \u001b[0mlimit\u001b[0m \u001b[1;33m=\u001b[0m \u001b[0mlen\u001b[0m\u001b[1;33m(\u001b[0m\u001b[0mfft\u001b[0m\u001b[1;33m)\u001b[0m\u001b[1;33m/\u001b[0m\u001b[1;36m2\u001b[0m\u001b[1;33m\u001b[0m\u001b[0m\n\u001b[0;32m      4\u001b[0m     \u001b[0mvec\u001b[0m \u001b[1;33m=\u001b[0m \u001b[0mnp\u001b[0m\u001b[1;33m.\u001b[0m\u001b[0mabs\u001b[0m\u001b[1;33m(\u001b[0m\u001b[0mnp\u001b[0m\u001b[1;33m.\u001b[0m\u001b[0mfft\u001b[0m\u001b[1;33m.\u001b[0m\u001b[0mfft\u001b[0m\u001b[1;33m(\u001b[0m\u001b[0mread\u001b[0m\u001b[1;33m)\u001b[0m\u001b[1;33m)\u001b[0m\u001b[1;33m[\u001b[0m\u001b[1;36m0\u001b[0m\u001b[1;33m:\u001b[0m\u001b[0mlimit\u001b[0m\u001b[1;33m]\u001b[0m\u001b[1;33m\u001b[0m\u001b[0m\n\u001b[0;32m      5\u001b[0m     \u001b[0mlight_cmd\u001b[0m \u001b[1;33m=\u001b[0m \u001b[0mnp\u001b[0m\u001b[1;33m.\u001b[0m\u001b[0mabs\u001b[0m\u001b[1;33m(\u001b[0m\u001b[0mnp\u001b[0m\u001b[1;33m.\u001b[0m\u001b[0msum\u001b[0m\u001b[1;33m(\u001b[0m\u001b[0mvec\u001b[0m \u001b[1;33m-\u001b[0m \u001b[0mlight_vec\u001b[0m\u001b[1;33m)\u001b[0m\u001b[1;33m)\u001b[0m\u001b[1;33m\u001b[0m\u001b[0m\n",
        "\u001b[1;32m<ipython-input-23-987a12d96317>\u001b[0m in \u001b[0;36mread128\u001b[1;34m()\u001b[0m\n\u001b[0;32m      5\u001b[0m     \u001b[0mser\u001b[0m\u001b[1;33m.\u001b[0m\u001b[0mflushInput\u001b[0m\u001b[1;33m(\u001b[0m\u001b[1;33m)\u001b[0m\u001b[1;33m\u001b[0m\u001b[0m\n\u001b[0;32m      6\u001b[0m     \u001b[0mser\u001b[0m\u001b[1;33m.\u001b[0m\u001b[0mwrite\u001b[0m\u001b[1;33m(\u001b[0m\u001b[1;34m'S'\u001b[0m\u001b[1;33m)\u001b[0m\u001b[1;31m#request payload\u001b[0m\u001b[1;33m\u001b[0m\u001b[0m\n\u001b[1;32m----> 7\u001b[1;33m     \u001b[1;32mif\u001b[0m \u001b[0mser\u001b[0m\u001b[1;33m.\u001b[0m\u001b[0mread\u001b[0m\u001b[1;33m(\u001b[0m\u001b[1;33m)\u001b[0m\u001b[1;33m==\u001b[0m\u001b[1;34m'H'\u001b[0m\u001b[1;33m:\u001b[0m\u001b[1;33m\u001b[0m\u001b[0m\n\u001b[0m\u001b[0;32m      8\u001b[0m         \u001b[1;32mwhile\u001b[0m \u001b[0mcnt\u001b[0m\u001b[1;33m<\u001b[0m\u001b[1;36m128\u001b[0m\u001b[1;33m:\u001b[0m\u001b[1;33m\u001b[0m\u001b[0m\n\u001b[0;32m      9\u001b[0m             \u001b[0mdata\u001b[0m \u001b[1;33m=\u001b[0m \u001b[0mser\u001b[0m\u001b[1;33m.\u001b[0m\u001b[0mread\u001b[0m\u001b[1;33m(\u001b[0m\u001b[1;36m2\u001b[0m\u001b[1;33m)\u001b[0m\u001b[1;33m\u001b[0m\u001b[0m\n",
        "\u001b[1;32mC:\\Python27\\lib\\site-packages\\serial\\serialwin32.pyc\u001b[0m in \u001b[0;36mread\u001b[1;34m(self, size)\u001b[0m\n\u001b[0;32m    269\u001b[0m                 \u001b[1;32mif\u001b[0m \u001b[1;32mnot\u001b[0m \u001b[0merr\u001b[0m \u001b[1;32mand\u001b[0m \u001b[0mwin32\u001b[0m\u001b[1;33m.\u001b[0m\u001b[0mGetLastError\u001b[0m\u001b[1;33m(\u001b[0m\u001b[1;33m)\u001b[0m \u001b[1;33m!=\u001b[0m \u001b[0mwin32\u001b[0m\u001b[1;33m.\u001b[0m\u001b[0mERROR_IO_PENDING\u001b[0m\u001b[1;33m:\u001b[0m\u001b[1;33m\u001b[0m\u001b[0m\n\u001b[0;32m    270\u001b[0m                     \u001b[1;32mraise\u001b[0m \u001b[0mSerialException\u001b[0m\u001b[1;33m(\u001b[0m\u001b[1;34m\"ReadFile failed (%r)\"\u001b[0m \u001b[1;33m%\u001b[0m \u001b[0mctypes\u001b[0m\u001b[1;33m.\u001b[0m\u001b[0mWinError\u001b[0m\u001b[1;33m(\u001b[0m\u001b[1;33m)\u001b[0m\u001b[1;33m)\u001b[0m\u001b[1;33m\u001b[0m\u001b[0m\n\u001b[1;32m--> 271\u001b[1;33m                 \u001b[0merr\u001b[0m \u001b[1;33m=\u001b[0m \u001b[0mwin32\u001b[0m\u001b[1;33m.\u001b[0m\u001b[0mGetOverlappedResult\u001b[0m\u001b[1;33m(\u001b[0m\u001b[0mself\u001b[0m\u001b[1;33m.\u001b[0m\u001b[0mhComPort\u001b[0m\u001b[1;33m,\u001b[0m \u001b[0mctypes\u001b[0m\u001b[1;33m.\u001b[0m\u001b[0mbyref\u001b[0m\u001b[1;33m(\u001b[0m\u001b[0mself\u001b[0m\u001b[1;33m.\u001b[0m\u001b[0m_overlappedRead\u001b[0m\u001b[1;33m)\u001b[0m\u001b[1;33m,\u001b[0m \u001b[0mctypes\u001b[0m\u001b[1;33m.\u001b[0m\u001b[0mbyref\u001b[0m\u001b[1;33m(\u001b[0m\u001b[0mrc\u001b[0m\u001b[1;33m)\u001b[0m\u001b[1;33m,\u001b[0m \u001b[0mTrue\u001b[0m\u001b[1;33m)\u001b[0m\u001b[1;33m\u001b[0m\u001b[0m\n\u001b[0m\u001b[0;32m    272\u001b[0m                 \u001b[0mread\u001b[0m \u001b[1;33m=\u001b[0m \u001b[0mbuf\u001b[0m\u001b[1;33m.\u001b[0m\u001b[0mraw\u001b[0m\u001b[1;33m[\u001b[0m\u001b[1;33m:\u001b[0m\u001b[0mrc\u001b[0m\u001b[1;33m.\u001b[0m\u001b[0mvalue\u001b[0m\u001b[1;33m]\u001b[0m\u001b[1;33m\u001b[0m\u001b[0m\n\u001b[0;32m    273\u001b[0m         \u001b[1;32melse\u001b[0m\u001b[1;33m:\u001b[0m\u001b[1;33m\u001b[0m\u001b[0m\n",
        "\u001b[1;31mKeyboardInterrupt\u001b[0m: "
       ]
      }
     ],
     "prompt_number": 49
    },
    {
     "cell_type": "heading",
     "level": 3,
     "metadata": {},
     "source": [
      "Close the Port:"
     ]
    },
    {
     "cell_type": "code",
     "collapsed": false,
     "input": [
      "##################\n",
      "# CLOSE THE PORT #\n",
      "##################\n",
      "ser.close()"
     ],
     "language": "python",
     "metadata": {},
     "outputs": [],
     "prompt_number": 122
    }
   ],
   "metadata": {}
  }
 ]
}